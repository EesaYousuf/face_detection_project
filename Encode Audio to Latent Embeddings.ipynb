{
 "cells": [
  {
   "cell_type": "code",
   "execution_count": null,
   "id": "9dc232e8",
   "metadata": {
    "vscode": {
     "languageId": "plaintext"
    }
   },
   "outputs": [],
   "source": [
    "import numpy as np\n",
    "import soundfile as sf\n",
    "from magenta.models.nsynth.wavenet import fastgen"
   ]
  },
  {
   "cell_type": "code",
   "execution_count": null,
   "id": "88cd20c3",
   "metadata": {
    "vscode": {
     "languageId": "plaintext"
    }
   },
   "outputs": [],
   "source": [
    "# Load a WAV file (mono, 16 kHz)\n",
    "audio, sr = sf.read('input_sound.wav')\n",
    "assert sr == 16000"
   ]
  }
 ],
 "metadata": {
  "language_info": {
   "name": "python"
  }
 },
 "nbformat": 4,
 "nbformat_minor": 5
}
