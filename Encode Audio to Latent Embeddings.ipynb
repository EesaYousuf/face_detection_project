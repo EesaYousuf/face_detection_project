{
 "cells": [
  {
   "cell_type": "code",
   "execution_count": null,
   "id": "9dc232e8",
   "metadata": {
    "vscode": {
     "languageId": "plaintext"
    }
   },
   "outputs": [],
   "source": [
    "import numpy as np\n",
    "import soundfile as sf\n",
    "from magenta.models.nsynth.wavenet import fastgen"
   ]
  },
  {
   "cell_type": "code",
   "execution_count": null,
   "id": "88cd20c3",
   "metadata": {
    "vscode": {
     "languageId": "plaintext"
    }
   },
   "outputs": [],
   "source": [
    "# Load a WAV file (mono, 16 kHz)\n",
    "audio, sr = sf.read('input_sound.wav')\n",
    "assert sr == 16000"
   ]
  },
  {
   "cell_type": "code",
   "execution_count": null,
   "id": "51debe2a",
   "metadata": {
    "vscode": {
     "languageId": "plaintext"
    }
   },
   "outputs": [],
   "source": [
    "# Encode to a [1, timesteps, 16] embedding\n",
    "encoding = fastgen.encode(audio[np.newaxis, :], \n",
    "                           'wavenet-ckpt/model.ckpt-200000',\n",
    "                           sample_length=len(audio))\n",
    "print(\"Encoding shape:\", encoding.shape)"
   ]
  }
 ],
 "metadata": {
  "language_info": {
   "name": "python"
  }
 },
 "nbformat": 4,
 "nbformat_minor": 5
}
