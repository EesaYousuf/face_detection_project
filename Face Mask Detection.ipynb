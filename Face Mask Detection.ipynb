{
 "cells": [
  {
   "cell_type": "code",
   "execution_count": null,
   "id": "52aeaf77",
   "metadata": {
    "vscode": {
     "languageId": "plaintext"
    }
   },
   "outputs": [],
   "source": [
    "import os\n",
    "import cv2\n",
    "import numpy as np\n",
    "from tensorflow.keras.preprocessing.image import ImageDataGenerator\n",
    "from tensorflow.keras.applications.mobilenet_v2 import MobileNetV2, preprocess_input\n",
    "from tensorflow.keras.layers import Dense, GlobalAveragePooling2D\n",
    "from tensorflow.keras.models import Model\n",
    "from tensorflow.keras.optimizers import Adam\n",
    "from sklearn.model_selection import train_test_split\n",
    "from sklearn.preprocessing import LabelBinarizer\n"
   ]
  },
  {
   "cell_type": "code",
   "execution_count": null,
   "id": "6e753abf",
   "metadata": {
    "vscode": {
     "languageId": "plaintext"
    }
   },
   "outputs": [],
   "source": [
    "# Load and preprocess the dataset\n",
    "def load_dataset(data_dir):\n",
    "    data = []\n",
    "    labels = []\n",
    "    categories = [\"with_mask\", \"without_mask\"]\n",
    "\n",
    "    for category in categories:\n",
    "        path = os.path.join(data_dir, category)\n",
    "        for img_name in os.listdir(path):\n",
    "            img_path = os.path.join(path, img_name)\n",
    "            image = cv2.imread(img_path)\n",
    "            image = cv2.resize(image, (224, 224))\n",
    "            image = preprocess_input(image)\n",
    "            data.append(image)\n",
    "            labels.append(category)\n",
    "data = np.array(data, dtype=\"float32\")\n",
    "    labels = np.array(labels)\n",
    "\n",
    "    lb = LabelBinarizer()\n",
    "    labels = lb.fit_transform(labels)\n",
    "    labels = np.array(labels)\n",
    "\n",
    "    return train_test_split(data, labels, test_size=0.2, stratify=labels)\n"
   ]
  }
 ],
 "metadata": {
  "language_info": {
   "name": "python"
  }
 },
 "nbformat": 4,
 "nbformat_minor": 5
}
